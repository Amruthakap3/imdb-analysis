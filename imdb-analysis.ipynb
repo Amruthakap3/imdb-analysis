{
 "cells": [
  {
   "cell_type": "markdown",
   "metadata": {},
   "source": [
    "\n",
    "# TMDB Movie Analysis: Uncovering Insights on Popularity, Box Office Success, and More!\n",
    "\n",
    "## Introduction\n",
    "\n",
    "What factors determine whether a movie becomes a box office hit or a commercial failure? \n",
    "\n",
    "Is it the star-studded cast featuring Hollywood icons like Tom Hanks and Chris Pratt? Perhaps it’s the influence of a visionary director such as J.J. Abrams or James Wan? Or could it be the genre that dictates its appeal—whether it be Action, Adventure, or Thriller?\n",
    "\n",
    "In this analysis, we’ll dive into the TMDB movie dataset to answer some of these burning questions and uncover insights into what drives a film's popularity and profitability.\n",
    "\n",
    "The dataset, sourced from Kaggle’s **5000 Movie Dataset**, includes information on **10,867 movies** collected from The Movie Database (TMDb). Our objective is to explore key indicators of success, from popularity to box office performance, genre trends, and more.\n",
    "\n",
    "## Questions of Interest\n",
    "\n",
    "The following questions will guide our analysis as we explore the dataset:\n",
    "\n",
    "1. **Does a Higher Budget Lead to Greater Revenue and Profit?**\n",
    "   - We’ll investigate whether there’s a strong correlation between a movie's budget and its financial returns, and if so, how significant that relationship is.\n",
    "\n",
    "2. **Which Genres are Most Associated with High Popularity?**\n",
    "   - By examining genre data, we aim to pinpoint the types of movies that consistently draw large audiences and maintain a high popularity rating on TMDb.\n",
    "\n",
    "3. **Which Director Has Produced the Highest Revenue Movies?**\n",
    "   - Analyzing revenue by director can help us identify if certain directors repeatedly produce high-grossing films, and whether directorial style might contribute to box office success.\n",
    "\n",
    "4. **Which Actor is Associated with Higher Popularity and Profit?**\n",
    "   - We’ll look at actors' involvement in films with high popularity and revenue, searching for any actors whose presence is consistently linked to profitable projects.\n",
    "\n",
    "5. **Which Year Produced the Highest Grossing Movies?**\n",
    "   - A closer look at revenue over the years will allow us to spot trends and identify any particular year that stood out in terms of producing box office hits.\n",
    "\n",
    "## Analysis Plan\n",
    "\n",
    "Using these questions as a foundation, we’ll apply data analysis techniques to identify trends, correlations, and other insights within the dataset. Through this approach, we hope to gain a better understanding of the factors that influence a movie’s success, both in terms of popularity and financial performance.\n",
    "\n",
    "Join us as we explore and analyze the data, discovering what it takes for a movie to succeed in the competitive landscape of the film industry!\n",
    "\n",
    "### Data set \n",
    "[imdb-movie-metadata](https://www.kaggle.com/tmdb/tmdb-movie-metadata)\n",
    "\n",
    "## Data Prep/Data wrangling\n",
    "We will begin by preparing the environment and loading the dataset for initial assessment. Following this, we will focus on cleaning and processing the data to ensure it is ready for thorough analysis."
   ]
  },
  {
   "cell_type": "code",
   "execution_count": 10,
   "metadata": {},
   "outputs": [
    {
     "data": {
      "text/html": [
       "<div>\n",
       "<style scoped>\n",
       "    .dataframe tbody tr th:only-of-type {\n",
       "        vertical-align: middle;\n",
       "    }\n",
       "\n",
       "    .dataframe tbody tr th {\n",
       "        vertical-align: top;\n",
       "    }\n",
       "\n",
       "    .dataframe thead th {\n",
       "        text-align: right;\n",
       "    }\n",
       "</style>\n",
       "<table border=\"1\" class=\"dataframe\">\n",
       "  <thead>\n",
       "    <tr style=\"text-align: right;\">\n",
       "      <th></th>\n",
       "      <th>movie_id</th>\n",
       "      <th>title</th>\n",
       "      <th>cast</th>\n",
       "      <th>crew</th>\n",
       "    </tr>\n",
       "  </thead>\n",
       "  <tbody>\n",
       "    <tr>\n",
       "      <th>0</th>\n",
       "      <td>19995</td>\n",
       "      <td>Avatar</td>\n",
       "      <td>[{\"cast_id\": 242, \"character\": \"Jake Sully\", \"...</td>\n",
       "      <td>[{\"credit_id\": \"52fe48009251416c750aca23\", \"de...</td>\n",
       "    </tr>\n",
       "    <tr>\n",
       "      <th>1</th>\n",
       "      <td>285</td>\n",
       "      <td>Pirates of the Caribbean: At World's End</td>\n",
       "      <td>[{\"cast_id\": 4, \"character\": \"Captain Jack Spa...</td>\n",
       "      <td>[{\"credit_id\": \"52fe4232c3a36847f800b579\", \"de...</td>\n",
       "    </tr>\n",
       "    <tr>\n",
       "      <th>2</th>\n",
       "      <td>206647</td>\n",
       "      <td>Spectre</td>\n",
       "      <td>[{\"cast_id\": 1, \"character\": \"James Bond\", \"cr...</td>\n",
       "      <td>[{\"credit_id\": \"54805967c3a36829b5002c41\", \"de...</td>\n",
       "    </tr>\n",
       "    <tr>\n",
       "      <th>3</th>\n",
       "      <td>49026</td>\n",
       "      <td>The Dark Knight Rises</td>\n",
       "      <td>[{\"cast_id\": 2, \"character\": \"Bruce Wayne / Ba...</td>\n",
       "      <td>[{\"credit_id\": \"52fe4781c3a36847f81398c3\", \"de...</td>\n",
       "    </tr>\n",
       "    <tr>\n",
       "      <th>4</th>\n",
       "      <td>49529</td>\n",
       "      <td>John Carter</td>\n",
       "      <td>[{\"cast_id\": 5, \"character\": \"John Carter\", \"c...</td>\n",
       "      <td>[{\"credit_id\": \"52fe479ac3a36847f813eaa3\", \"de...</td>\n",
       "    </tr>\n",
       "  </tbody>\n",
       "</table>\n",
       "</div>"
      ],
      "text/plain": [
       "   movie_id                                     title                                               cast                                               crew\n",
       "0     19995                                    Avatar  [{\"cast_id\": 242, \"character\": \"Jake Sully\", \"...  [{\"credit_id\": \"52fe48009251416c750aca23\", \"de...\n",
       "1       285  Pirates of the Caribbean: At World's End  [{\"cast_id\": 4, \"character\": \"Captain Jack Spa...  [{\"credit_id\": \"52fe4232c3a36847f800b579\", \"de...\n",
       "2    206647                                   Spectre  [{\"cast_id\": 1, \"character\": \"James Bond\", \"cr...  [{\"credit_id\": \"54805967c3a36829b5002c41\", \"de...\n",
       "3     49026                     The Dark Knight Rises  [{\"cast_id\": 2, \"character\": \"Bruce Wayne / Ba...  [{\"credit_id\": \"52fe4781c3a36847f81398c3\", \"de...\n",
       "4     49529                               John Carter  [{\"cast_id\": 5, \"character\": \"John Carter\", \"c...  [{\"credit_id\": \"52fe479ac3a36847f813eaa3\", \"de..."
      ]
     },
     "execution_count": 10,
     "metadata": {},
     "output_type": "execute_result"
    }
   ],
   "source": [
    "# Import libraries\n",
    "import numpy as np\n",
    "import pandas as pd\n",
    "import matplotlib.pyplot as plt\n",
    "import seaborn as sns\n",
    "%matplotlib inline\n",
    "\n",
    "# Set pandas display option to show all columns in a single line\n",
    "pd.set_option('display.max_columns', None)  # Show all columns\n",
    "pd.set_option('display.expand_frame_repr', False)  # Prevent line wrapping\n",
    "\n",
    "# Import CSV\n",
    "df = pd.read_csv('data/tmdb_5000_credits.csv')\n",
    "\n",
    "# View first 3 rows\n",
    "df.head()"
   ]
  },
  {
   "cell_type": "code",
   "execution_count": 8,
   "metadata": {},
   "outputs": [
    {
     "name": "stdout",
     "output_type": "stream",
     "text": [
      "<class 'pandas.core.frame.DataFrame'>\n",
      "RangeIndex: 4803 entries, 0 to 4802\n",
      "Data columns (total 4 columns):\n",
      " #   Column    Non-Null Count  Dtype \n",
      "---  ------    --------------  ----- \n",
      " 0   movie_id  4803 non-null   int64 \n",
      " 1   title     4803 non-null   object\n",
      " 2   cast      4803 non-null   object\n",
      " 3   crew      4803 non-null   object\n",
      "dtypes: int64(1), object(3)\n",
      "memory usage: 150.2+ KB\n"
     ]
    }
   ],
   "source": [
    "# Basic information of dataset\n",
    "df.info()"
   ]
  }
 ],
 "metadata": {
  "kernelspec": {
   "display_name": "Python 3",
   "language": "python",
   "name": "python3"
  },
  "language_info": {
   "codemirror_mode": {
    "name": "ipython",
    "version": 3
   },
   "file_extension": ".py",
   "mimetype": "text/x-python",
   "name": "python",
   "nbconvert_exporter": "python",
   "pygments_lexer": "ipython3",
   "version": "3.9.20"
  }
 },
 "nbformat": 4,
 "nbformat_minor": 2
}
